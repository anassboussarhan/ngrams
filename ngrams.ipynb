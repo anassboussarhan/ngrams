{
  "nbformat": 4,
  "nbformat_minor": 0,
  "metadata": {
    "colab": {
      "name": "Untitled9.ipynb",
      "version": "0.3.2",
      "provenance": [],
      "include_colab_link": true
    },
    "kernelspec": {
      "name": "python3",
      "display_name": "Python 3"
    }
  },
  "cells": [
    {
      "cell_type": "markdown",
      "metadata": {
        "id": "view-in-github",
        "colab_type": "text"
      },
      "source": [
        "<a href=\"https://colab.research.google.com/github/anassboussarhan/ngrams/blob/master/ngrams.ipynb\" target=\"_parent\"><img src=\"https://colab.research.google.com/assets/colab-badge.svg\" alt=\"Open In Colab\"/></a>"
      ]
    },
    {
      "metadata": {
        "id": "VPtLrd8enqby",
        "colab_type": "code",
        "colab": {}
      },
      "cell_type": "code",
      "source": [
        "import re\n",
        "def n_gram(text, n):\n",
        "    text = text.lower()\n",
        "    text = re.sub(r'[^a-zA-Z0-9\\s]', \" \", text)\n",
        "    tokens = [token for token in text.split(\" \") if token != \"\"]\n",
        "    \n",
        "    \n",
        "    ngrams = []\n",
        " \n",
        "    for i in range(len(tokens)-n+1):\n",
        "        ngram = ' '.join(tokens[i:i + n])\n",
        "        ngrams.append(ngram)\n",
        "    return [\" \".join(ngram) for ngram in ngrams]\n",
        " \n",
        " "
      ],
      "execution_count": 0,
      "outputs": []
    },
    {
      "metadata": {
        "id": "gcMWyiUpnub-",
        "colab_type": "code",
        "outputId": "a5ddb810-f205-44f7-f469-40b4e951385b",
        "colab": {
          "base_uri": "https://localhost:8080/",
          "height": 88
        }
      },
      "cell_type": "code",
      "source": [
        "text = \"Working at SoundReply opens up new possibilities.\"\n",
        "for i in range (3):\n",
        "  print (n_gram(text,i+1))"
      ],
      "execution_count": 0,
      "outputs": [
        {
          "output_type": "stream",
          "text": [
            "['w o r k i n g', 'a t', 's o u n d r e p l y', 'o p e n s', 'u p', 'n e w', 'p o s s i b i l i t i e s']\n",
            "['w o r k i n g   a t', 'a t   s o u n d r e p l y', 's o u n d r e p l y   o p e n s', 'o p e n s   u p', 'u p   n e w', 'n e w   p o s s i b i l i t i e s']\n",
            "['w o r k i n g   a t   s o u n d r e p l y', 'a t   s o u n d r e p l y   o p e n s', 's o u n d r e p l y   o p e n s   u p', 'o p e n s   u p   n e w', 'u p   n e w   p o s s i b i l i t i e s']\n"
          ],
          "name": "stdout"
        }
      ]
    }
  ]
}